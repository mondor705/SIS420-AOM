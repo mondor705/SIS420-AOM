{
  "nbformat": 4,
  "nbformat_minor": 0,
  "metadata": {
    "colab": {
      "provenance": [],
      "collapsed_sections": []
    },
    "kernelspec": {
      "name": "python3",
      "display_name": "Python 3"
    },
    "language_info": {
      "name": "python"
    }
  },
  "cells": [
    {
      "cell_type": "code",
      "execution_count": 45,
      "metadata": {
        "id": "ia0zaIUOiE3h"
      },
      "outputs": [],
      "source": [
        "#Laboratorio 03\n",
        "#Integrantes: Alejandra Reyes Ortiz Perez, Adrian Oña Medrano\n",
        "#descripcion:\n",
        "#A partir del codigo proporcionado para resolver un rompecabezas de con cuatro digitos de tipo lineal, que solo permite un movimiento simultane entre dos numeros contiguos solamente, desarrollar lo siguiente:\n",
        "\n",
        "#1. Implementar una funcion que permita expandir nodos hijos para n caracteres, los cuales deben ser establecidos al momento de iniciar el programa.\n",
        "#2. Describir cual es el nivel maximo de numero de digitos que el rompecabezas se puede resolver en su maquina, explicando a que se deberia este limite y como se lo podria superara.\n",
        "#3. hacer correr el mismo programa, pero utilizando una lista LIFO para la lista frontera.\n",
        "\n",
        "# En la consigna 1 logramos expandir los nodos hijo para n caracteres utilizando una variable de tamaño al iniciar el programa, variable que guardaba el tamaño de la lista solucion que se insertaba al principio\n",
        "# despues se añadio este tamaño a la funcion bpa y en la parte del else se implemento un for que va desde 0 hasta el tamaño -1, asi va ir creando nodos cada que acabe el ciclo pero sin llegar a ser del mismo tamaño que \n",
        "#la lista solucion. Tambien se aumento un if que compara la posicion de la izquierda con el de su derecha para crear un nodo si esta es mayor y asi intercambiar posiciones, pero si no lo es pasa a otro hijo\n",
        "\n",
        "\n",
        "#En la consigna 2 primero llegabamos a un limite de 7 o 10 digitos si esque estaban mas o menos ordenados, pero al implementar el if hijo1_datos[j]>hijo1_datos[j+1], logramos comparar mas rapido y superar esa barrera de 10 digitos\n",
        "#ahora no hay limites fijos\n",
        "\n",
        "#\n",
        "             \n",
        "\n",
        "\n",
        "\n",
        "\n",
        "class Nodo:\n",
        "    def __init__(self, datos, hijo=None):\n",
        "        self.datos = datos\n",
        "        self.hijos = []\n",
        "        self.padre = None\n",
        "        self.costo = None\n",
        "        self.set_hijo(hijo)\n",
        "        \n",
        "    def set_hijo(self, hijo):\n",
        "        if (hijo is not None):\n",
        "            self.hijos.append(hijo)\n",
        "            if self.hijos is not None:\n",
        "                for h in self.hijos:\n",
        "                    h.padre = self\n",
        "                \n",
        "    def get_hijos(self):\n",
        "        return self.hijos\n",
        "    \n",
        "    def set_padre(self, padre):\n",
        "        self.padre = padre\n",
        "        \n",
        "    def get_padre(self):\n",
        "        return self.padre\n",
        "\n",
        "    def set_datos(self, datos):\n",
        "        self.datos = datos\n",
        "    \n",
        "    def get_datos(self):\n",
        "        return self.datos\n",
        "    \n",
        "    def set_costo(self, costo):\n",
        "        self.costo = costo\n",
        "        \n",
        "    def get_costo(self):\n",
        "        return self.costo\n",
        "    \n",
        "    def equal(self, nodo):\n",
        "        if self.get_datos() == nodo.get_datos():\n",
        "            return True\n",
        "        else:\n",
        "            return False\n",
        "    \n",
        "    def en_lista(self, lista_nodos):\n",
        "        enlistado = False\n",
        "        for n in lista_nodos:\n",
        "            if self.equal(n):\n",
        "                enlistado = True\n",
        "        return enlistado\n",
        "    \n",
        "    def __str__(self):\n",
        "        return str(self.get_datos())\n",
        "\n",
        "\n",
        "# In[ ]:\n",
        "\n",
        "\n",
        "\n",
        "            \n",
        "\n",
        "\n",
        "\n"
      ]
    },
    {
      "cell_type": "code",
      "source": [],
      "metadata": {
        "id": "DJrE2_vR0JbM"
      },
      "execution_count": 45,
      "outputs": []
    },
    {
      "cell_type": "code",
      "source": [
        "def bpa(estado_inicio, estado_solucion,tamaño):\n",
        "    resuelto = False\n",
        "    nodos_visitados = []\n",
        "    nodos_frontera = []\n",
        "    nodo_inicio = Nodo(estado_inicio)\n",
        "    nodos_frontera.append(nodo_inicio)\n",
        "    \n",
        "    while resuelto == False and len(nodos_frontera) != 0:\n",
        "        nodo_actual = nodos_frontera.pop(0)\n",
        "        nodos_visitados.append(nodo_actual)\n",
        "        if nodo_actual.get_datos() == estado_solucion:\n",
        "            resuelto = True\n",
        "            return nodo_actual\n",
        "        else:\n",
        "           hijo1_datos = nodo_actual.get_datos().copy()\n",
        "           hijo=hijo1_datos\n",
        "           for i in range (1,tamaño):   \n",
        "            for j in range(0,tamaño-1):\n",
        "\n",
        "              if hijo1_datos[j]>hijo1_datos[j+1]:\n",
        "\n",
        "                temp = hijo1_datos[j]\n",
        "                n=j+1\n",
        "                hijo[j] = hijo[n]\n",
        "                hijo[n] = temp\n",
        "                hijo1 = Nodo(hijo)\n",
        "                print(hijo1_datos)\n",
        "\n",
        "              if not hijo1.en_lista(nodos_visitados) and not hijo1.en_lista(nodos_frontera):\n",
        "                nodo_actual.set_hijo(hijo1)\n",
        "                nodos_frontera.append(hijo1)\n"
      ],
      "metadata": {
        "id": "98PkIKaCjRJL"
      },
      "execution_count": 51,
      "outputs": []
    },
    {
      "cell_type": "code",
      "source": [
        "if __name__ == \"__main__\":\n",
        "    estado_inicial = [5,4, 3, 2, 1]\n",
        "    solucion = [1, 2, 3, 4,5]\n",
        "    tamaño=len(solucion)\n",
        "    nodo_solucion = bpa(estado_inicial, solucion,tamaño)\n",
        "\n",
        "    # mostrar resultado\n",
        "    resultado = []\n",
        "    nodo_actual = nodo_solucion\n",
        "    while nodo_actual.get_padre() is not None:\n",
        "        resultado.append(nodo_actual.get_datos())\n",
        "        nodo_actual = nodo_actual.get_padre()\n",
        "\n",
        "    resultado.append(estado_inicial)\n",
        "    resultado.reverse()\n",
        "    print(resultado)"
      ],
      "metadata": {
        "colab": {
          "base_uri": "https://localhost:8080/"
        },
        "id": "ShFBxtVkqMy_",
        "outputId": "a9f28d17-2412-4092-86f0-6df771e791ba"
      },
      "execution_count": 52,
      "outputs": [
        {
          "output_type": "stream",
          "name": "stdout",
          "text": [
            "[4, 5, 3, 2, 1]\n",
            "[4, 3, 5, 2, 1]\n",
            "[4, 3, 2, 5, 1]\n",
            "[4, 3, 2, 1, 5]\n",
            "[3, 4, 2, 1, 5]\n",
            "[3, 2, 4, 1, 5]\n",
            "[3, 2, 1, 4, 5]\n",
            "[2, 3, 1, 4, 5]\n",
            "[2, 1, 3, 4, 5]\n",
            "[1, 2, 3, 4, 5]\n",
            "[[5, 4, 3, 2, 1], [1, 2, 3, 4, 5]]\n"
          ]
        }
      ]
    }
  ]
}